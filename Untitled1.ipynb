{
 "cells": [
  {
   "cell_type": "markdown",
   "id": "344141c0",
   "metadata": {},
   "source": [
    "<h1>Data Cleaning</h1)"
   ]
  },
  {
   "cell_type": "markdown",
   "id": "8cfc8dfe",
   "metadata": {},
   "source": [
    "<h2>Median-based anomaly detection</h2>"
   ]
  },
  {
   "cell_type": "code",
   "execution_count": 3,
   "id": "f925a239",
   "metadata": {},
   "outputs": [],
   "source": [
    "import pandas as pd\n",
    "import numpy as np"
   ]
  },
  {
   "cell_type": "code",
   "execution_count": 5,
   "id": "71200916",
   "metadata": {},
   "outputs": [
    {
     "data": {
      "text/plain": [
       "[5.4, 2.9]"
      ]
     },
     "execution_count": 5,
     "metadata": {},
     "output_type": "execute_result"
    }
   ],
   "source": [
    "x = pd.Series([1.5, 1.4, 1.3, 5.4, 1.7, 2.9])\n",
    "\n",
    "median = np.median(x)\n",
    "threshold = 1\n",
    "datos_fuera = []\n",
    "\n",
    "for item in x:\n",
    "    if abs(item-median) > threshold:\n",
    "        datos_fuera.append(item)\n",
    "        \n",
    "datos_fuera\n"
   ]
  },
  {
   "cell_type": "code",
   "execution_count": null,
   "id": "68e0fefc",
   "metadata": {},
   "outputs": [],
   "source": []
  }
 ],
 "metadata": {
  "kernelspec": {
   "display_name": "Python 3 (ipykernel)",
   "language": "python",
   "name": "python3"
  },
  "language_info": {
   "codemirror_mode": {
    "name": "ipython",
    "version": 3
   },
   "file_extension": ".py",
   "mimetype": "text/x-python",
   "name": "python",
   "nbconvert_exporter": "python",
   "pygments_lexer": "ipython3",
   "version": "3.11.3"
  }
 },
 "nbformat": 4,
 "nbformat_minor": 5
}
