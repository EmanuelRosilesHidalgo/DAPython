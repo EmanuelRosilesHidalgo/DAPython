{
 "cells": [
  {
   "cell_type": "markdown",
   "id": "ac555aee",
   "metadata": {},
   "source": [
    "<h1>Descriptive Statistics</h1> "
   ]
  },
  {
   "cell_type": "markdown",
   "id": "08126807",
   "metadata": {},
   "source": [
    "<h2> Measures of Central Tendency </h2>"
   ]
  },
  {
   "cell_type": "code",
   "execution_count": null,
   "id": "fd5ba18c",
   "metadata": {},
   "outputs": [],
   "source": []
  }
 ],
 "metadata": {
  "kernelspec": {
   "display_name": "Python 3 (ipykernel)",
   "language": "python",
   "name": "python3"
  },
  "language_info": {
   "codemirror_mode": {
    "name": "ipython",
    "version": 3
   },
   "file_extension": ".py",
   "mimetype": "text/x-python",
   "name": "python",
   "nbconvert_exporter": "python",
   "pygments_lexer": "ipython3",
   "version": "3.11.3"
  }
 },
 "nbformat": 4,
 "nbformat_minor": 5
}
